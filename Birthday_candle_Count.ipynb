{
  "nbformat": 4,
  "nbformat_minor": 0,
  "metadata": {
    "colab": {
      "provenance": [],
      "collapsed_sections": []
    },
    "kernelspec": {
      "name": "python3",
      "display_name": "Python 3"
    },
    "language_info": {
      "name": "python"
    }
  },
  "cells": [
    {
      "cell_type": "markdown",
      "source": [
        "You are in charge of the cake for a child's birthday. You have decided the cake will have one candle for each year of their total age. They will only be able to blow out the tallest of the candles. Count how many candles are tallest.\n",
        "\n",
        "##Example\n",
        "\n",
        "\n",
        "The maximum height candles are  units high. There are  of them, so return .\n",
        "\n",
        "Function Description\n",
        "\n",
        "Complete the function birthdayCakeCandles in the editor below.\n",
        "\n",
        "birthdayCakeCandles has the following parameter(s):\n",
        "\n",
        "int candles[n]: the candle heights\n",
        "Returns\n",
        "\n",
        "int: the number of candles that are tallest"
      ],
      "metadata": {
        "id": "4bZ5FowQ8Sv2"
      }
    },
    {
      "cell_type": "markdown",
      "source": [
        "#My Way "
      ],
      "metadata": {
        "id": "nmBdoj5i9ZvN"
      }
    },
    {
      "cell_type": "code",
      "execution_count": null,
      "metadata": {
        "id": "J1iZqBeF8FgY"
      },
      "outputs": [],
      "source": [
        "def Birthday_cake(list):\n",
        "  n= len(list)\n",
        "  max1 =  max(list)\n",
        "  count= 0\n",
        "\n",
        "  for i in range(n):\n",
        "    if list[i]>max1:\n",
        "      count=1\n",
        "    elif list[i]==max1:\n",
        "      count+=1\n",
        "  return count"
      ]
    },
    {
      "cell_type": "code",
      "source": [
        "max(list)"
      ],
      "metadata": {
        "colab": {
          "base_uri": "https://localhost:8080/"
        },
        "id": "4RqIGWr78hyO",
        "outputId": "5f96ff8c-91cc-4d2d-8f3a-2e8f96712260"
      },
      "execution_count": null,
      "outputs": [
        {
          "output_type": "execute_result",
          "data": {
            "text/plain": [
              "4"
            ]
          },
          "metadata": {},
          "execution_count": 2
        }
      ]
    },
    {
      "cell_type": "code",
      "source": [
        "list = [4,6,6,6,6,6,4,3,10]\n",
        "print(Birthday_cake(list))"
      ],
      "metadata": {
        "colab": {
          "base_uri": "https://localhost:8080/"
        },
        "id": "Alt7oVmS8r7r",
        "outputId": "88f04e17-9306-4ede-c6b4-6eba7f52c631"
      },
      "execution_count": null,
      "outputs": [
        {
          "output_type": "stream",
          "name": "stdout",
          "text": [
            "1\n"
          ]
        }
      ]
    },
    {
      "cell_type": "code",
      "source": [],
      "metadata": {
        "id": "B96h9zIl9CxM"
      },
      "execution_count": null,
      "outputs": []
    }
  ]
}